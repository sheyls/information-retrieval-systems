{
 "cells": [
  {
   "cell_type": "code",
   "execution_count": 1,
   "metadata": {},
   "outputs": [],
   "source": [
    "from boolean import BooleanModel\n",
    "import time"
   ]
  },
  {
   "cell_type": "code",
   "execution_count": 4,
   "metadata": {},
   "outputs": [
    {
     "name": "stdout",
     "output_type": "stream",
     "text": [
      "Preprocessing + Indexing Time:  9.60483980178833\n",
      "Searching Time:  8.50519394874573\n",
      "[]\n",
      "Total Time:  16.78955602645874\n"
     ]
    }
   ],
   "source": [
    "if __name__ == \"__main__\":\n",
    "    dataset = input('Elige un Dataset: \\n1 - Cranfield \\n2 - MED \\nEnter - Para terminar\\n-> ')\n",
    "    if dataset == '1' or dataset == '2':\n",
    "        model = BooleanModel(0.3,dataset)\n",
    "\n",
    "    start_time = time.time()\n",
    "    \"\"\" Accepting query as input from the user and splitting\n",
    "    the query into boolean words (&,|,~) and\n",
    "    query words \"\"\"\n",
    "    print(model.search(input(\"Search Query:\")))\n",
    "    # print(model.query(input(\"Search Query:\")))\n",
    "    end_time = time.time()\n",
    "    total_time = end_time - start_time\n",
    "    print(\"Total Time: \", total_time)"
   ]
  }
 ],
 "metadata": {
  "kernelspec": {
   "display_name": "Python 3.10.7 64-bit",
   "language": "python",
   "name": "python3"
  },
  "language_info": {
   "codemirror_mode": {
    "name": "ipython",
    "version": 3
   },
   "file_extension": ".py",
   "mimetype": "text/x-python",
   "name": "python",
   "nbconvert_exporter": "python",
   "pygments_lexer": "ipython3",
   "version": "3.10.7"
  },
  "orig_nbformat": 4,
  "vscode": {
   "interpreter": {
    "hash": "aee8b7b246df8f9039afb4144a1f6fd8d2ca17a180786b69acc140d282b71a49"
   }
  }
 },
 "nbformat": 4,
 "nbformat_minor": 2
}
